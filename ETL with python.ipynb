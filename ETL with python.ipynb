{
 "cells": [
  {
   "cell_type": "markdown",
   "id": "0c56f2b9",
   "metadata": {},
   "source": [
    "## Extract, Transform and  Load with Python"
   ]
  },
  {
   "cell_type": "markdown",
   "id": "880d5d1d",
   "metadata": {},
   "source": [
    "### Importing libraries"
   ]
  },
  {
   "cell_type": "code",
   "execution_count": 1,
   "id": "91a416f0",
   "metadata": {},
   "outputs": [],
   "source": [
    "import requests\n",
    "import pandas as pd\n",
    "#from sqlalchemy import create_engine"
   ]
  },
  {
   "cell_type": "markdown",
   "id": "4f985628",
   "metadata": {},
   "source": [
    "### Extract\n"
   ]
  },
  {
   "cell_type": "code",
   "execution_count": 2,
   "id": "28f1c8e2",
   "metadata": {},
   "outputs": [],
   "source": [
    "def extract () -> dict:\n",
    "    \"\"\" This API extracts data from \n",
    "    http://universities.hipolabs.com\"\"\"\n",
    "\n",
    "    API_URL = \"http://universities.hipolabs.com/search?country=Brazil\"\n",
    "    data = requests.get(API_URL).json()\n",
    "    return data"
   ]
  },
  {
   "cell_type": "markdown",
   "id": "c760ac20",
   "metadata": {},
   "source": [
    "### Transform\n"
   ]
  },
  {
   "cell_type": "code",
   "execution_count": 3,
   "id": "246b9aa6",
   "metadata": {},
   "outputs": [],
   "source": [
    "def transform(data:dict) -> pd.DataFrame:\n",
    "    \"\"\"Transforms the dataset into desired structure and filters\"\"\"\n",
    "    df = pd.DataFrame(data)\n",
    "    print(f\"Total Number of universities from API {len(data)}\")\n",
    "    df = df[df[\"name\"].str.contains(\"Rio de Janeiro\")]\n",
    "    print(f\"Number of universities in Rio de Janeiro {len(df)}\")\n",
    "    df['domains'] = [','.join(map(str,l)) for l in df['domains']]\n",
    "    df['web_pages'] = [','.join(map(str,l)) for l in df['web_pages']]\n",
    "    df = df.reset_index(drop=True)\n",
    "    return df[[\"domains\", \"country\", \"web_pages\", \"name\"]]"
   ]
  },
  {
   "cell_type": "markdown",
   "id": "2fb85854",
   "metadata": {},
   "source": [
    "### Load"
   ]
  },
  {
   "cell_type": "code",
   "execution_count": 8,
   "id": "3f81fb63",
   "metadata": {},
   "outputs": [],
   "source": [
    "def load_csv(df:pd.DataFrame, file_path: str) -> None:\n",
    "    \"\"\"Salva os dados transformados em um arquivo CSV.\"\"\"\n",
    "    df.to_csv('uni_br.csv', index=False)"
   ]
  },
  {
   "cell_type": "markdown",
   "id": "38a60335",
   "metadata": {},
   "source": [
    "### Running ETL pipeline"
   ]
  },
  {
   "cell_type": "code",
   "execution_count": 10,
   "id": "b7b0f62b",
   "metadata": {},
   "outputs": [
    {
     "name": "stdout",
     "output_type": "stream",
     "text": [
      "Total Number of universities from API 175\n",
      "Number of universities in Rio de Janeiro 5\n"
     ]
    }
   ],
   "source": [
    "data = extract()\n",
    "df = transform(data)\n",
    "load_csv(df,'uni_br.csv')\n"
   ]
  },
  {
   "cell_type": "code",
   "execution_count": 12,
   "id": "9b1b436a",
   "metadata": {},
   "outputs": [
    {
     "name": "stdout",
     "output_type": "stream",
     "text": [
      "      domains country               web_pages  \\\n",
      "0  puc-rio.br  Brazil  http://www.puc-rio.br/   \n",
      "1     uerj.br  Brazil     http://www.uerj.br/   \n",
      "2     ufrj.br  Brazil     http://www.ufrj.br/   \n",
      "3    ufrrj.br  Brazil    http://www.ufrrj.br/   \n",
      "4   unirio.br  Brazil   http://www.unirio.br/   \n",
      "\n",
      "                                                name  \n",
      "0  Pontifícia Universidade Católica do Rio de Jan...  \n",
      "1           Universidade do Estado do Rio de Janeiro  \n",
      "2             Universidade Federal do Rio de Janeiro  \n",
      "3       Universidade Federal Rural do Rio de Janeiro  \n",
      "4                     Universidade do Rio de Janeiro  \n"
     ]
    }
   ],
   "source": [
    "print(df)"
   ]
  },
  {
   "cell_type": "code",
   "execution_count": null,
   "id": "fa6db392",
   "metadata": {},
   "outputs": [],
   "source": []
  }
 ],
 "metadata": {
  "kernelspec": {
   "display_name": "Python 3 (ipykernel)",
   "language": "python",
   "name": "python3"
  },
  "language_info": {
   "codemirror_mode": {
    "name": "ipython",
    "version": 3
   },
   "file_extension": ".py",
   "mimetype": "text/x-python",
   "name": "python",
   "nbconvert_exporter": "python",
   "pygments_lexer": "ipython3",
   "version": "3.9.13"
  }
 },
 "nbformat": 4,
 "nbformat_minor": 5
}
